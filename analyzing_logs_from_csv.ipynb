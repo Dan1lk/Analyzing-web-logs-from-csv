{
  "nbformat": 4,
  "nbformat_minor": 0,
  "metadata": {
    "colab": {
      "provenance": [],
      "authorship_tag": "ABX9TyOOAYkpR86gQHlRDxnjrHcD",
      "include_colab_link": true
    },
    "kernelspec": {
      "name": "python3",
      "display_name": "Python 3"
    },
    "language_info": {
      "name": "python"
    }
  },
  "cells": [
    {
      "cell_type": "markdown",
      "metadata": {
        "id": "view-in-github",
        "colab_type": "text"
      },
      "source": [
        "<a href=\"https://colab.research.google.com/github/Dan1lk/Analyzing_web_logs_from_csv/blob/main/analyzing_logs_from_csv.ipynb\" target=\"_parent\"><img src=\"https://colab.research.google.com/assets/colab-badge.svg\" alt=\"Open In Colab\"/></a>"
      ]
    },
    {
      "cell_type": "code",
      "execution_count": 1,
      "metadata": {
        "colab": {
          "base_uri": "https://localhost:8080/"
        },
        "id": "Yvk6CDB1RMG6",
        "outputId": "78463ff0-c884-45cc-c547-a5ec98428bd9"
      },
      "outputs": [
        {
          "output_type": "stream",
          "name": "stdout",
          "text": [
            "Collecting pyspark\n",
            "  Downloading pyspark-3.5.2.tar.gz (317.3 MB)\n",
            "\u001b[2K     \u001b[90m━━━━━━━━━━━━━━━━━━━━━━━━━━━━━━━━━━━━━━━━\u001b[0m \u001b[32m317.3/317.3 MB\u001b[0m \u001b[31m4.9 MB/s\u001b[0m eta \u001b[36m0:00:00\u001b[0m\n",
            "\u001b[?25h  Preparing metadata (setup.py) ... \u001b[?25l\u001b[?25hdone\n",
            "Requirement already satisfied: py4j in /usr/local/lib/python3.10/dist-packages (0.10.9.7)\n",
            "Building wheels for collected packages: pyspark\n",
            "  Building wheel for pyspark (setup.py) ... \u001b[?25l\u001b[?25hdone\n",
            "  Created wheel for pyspark: filename=pyspark-3.5.2-py2.py3-none-any.whl size=317812365 sha256=1fba9790eefd3847222b0792b713fee90aedf57e1603f8ecf7d58b8dbb7be802\n",
            "  Stored in directory: /root/.cache/pip/wheels/34/34/bd/03944534c44b677cd5859f248090daa9fb27b3c8f8e5f49574\n",
            "Successfully built pyspark\n",
            "Installing collected packages: pyspark\n",
            "Successfully installed pyspark-3.5.2\n"
          ]
        }
      ],
      "source": [
        "!pip install pyspark py4j"
      ]
    },
    {
      "cell_type": "code",
      "source": [
        "from pyspark.sql import SparkSession\n",
        "from pyspark.sql.functions import count, sum, to_date\n",
        "spark = SparkSession.builder \\\n",
        "    .appName('web_logs_app') \\\n",
        "    .config('spark.master', 'local[*]') \\\n",
        "    .getOrCreate()\n",
        "\n",
        "web_logs = spark.read.csv('web_server_logs.csv', header=True, inferSchema=True)\n",
        "#добавляем столбец date в формате 'yyyy-MM-dd'\n",
        "web_logs = web_logs.withColumn('date', to_date('timestamp', 'yyyy-MM-dd'))\n",
        "\n",
        "# 10 самых активных ip\n",
        "\n",
        "active_ip = web_logs.groupBy('ip').agg(count('*').alias('request_count')) \\\n",
        "     .orderBy('request_count', ascending=False).limit(10)\n",
        "print(\"Top 10 active IP addresses: \")\n",
        "active_ip.show()\n",
        "\n",
        "# группировка по HTTP методу\n",
        "\n",
        "group_by_http = web_logs.groupBy('method').agg(count('*').alias('method_count'))\n",
        "print(\"Request count by HTTP method: \")\n",
        "group_by_http.show()\n",
        "\n",
        "# количество запросов с кодом ответа 404\n",
        "\n",
        "count_404_query = web_logs.filter(web_logs.response_code == 404).groupBy('response_code') \\\n",
        "     .agg(count('*').alias('code_count'))\n",
        "print(f\"Number of 404 response codes: {count_404_query.first()['code_count']}\")\n",
        "print()\n",
        "\n",
        "# группировка по дате и сумма размера ответов\n",
        "group_by_date = web_logs.groupBy('date').agg(sum('response_size').alias('total_response_size')).orderBy('date').limit(15)\n",
        "print('Total response size by day: ')\n",
        "group_by_date.show()\n",
        "\n",
        "spark.stop()"
      ],
      "metadata": {
        "colab": {
          "base_uri": "https://localhost:8080/"
        },
        "id": "Hk2-A3mjRPQN",
        "outputId": "dff0da13-67c9-4731-bc32-59edbf3d528f"
      },
      "execution_count": 3,
      "outputs": [
        {
          "output_type": "stream",
          "name": "stdout",
          "text": [
            "Top 10 active IP addresses: \n",
            "+---------------+-------------+\n",
            "|             ip|request_count|\n",
            "+---------------+-------------+\n",
            "| 178.238.251.88|            2|\n",
            "|  61.140.179.69|            2|\n",
            "|  167.35.126.29|            2|\n",
            "|160.202.253.117|            1|\n",
            "| 122.72.233.188|            1|\n",
            "| 148.43.131.173|            1|\n",
            "|  19.62.199.241|            1|\n",
            "| 51.222.202.133|            1|\n",
            "|  38.23.165.204|            1|\n",
            "| 187.128.164.26|            1|\n",
            "+---------------+-------------+\n",
            "\n",
            "Request count by HTTP method: \n",
            "+------+------------+\n",
            "|method|method_count|\n",
            "+------+------------+\n",
            "|  POST|       25019|\n",
            "|DELETE|       24943|\n",
            "|   PUT|       24930|\n",
            "|   GET|       25108|\n",
            "+------+------------+\n",
            "\n",
            "Number of 404 response codes: 24790\n",
            "\n",
            "Total response size by day: \n",
            "+----------+-------------------+\n",
            "|      date|total_response_size|\n",
            "+----------+-------------------+\n",
            "|2024-01-01|            2416994|\n",
            "|2024-01-02|            2198263|\n",
            "|2024-01-03|            2454239|\n",
            "|2024-01-04|            2421939|\n",
            "|2024-01-05|            2357130|\n",
            "|2024-01-06|            2504923|\n",
            "|2024-01-07|            2524071|\n",
            "|2024-01-08|            2391716|\n",
            "|2024-01-09|            2472420|\n",
            "|2024-01-10|            2205118|\n",
            "|2024-01-11|            2515533|\n",
            "|2024-01-12|            2116777|\n",
            "|2024-01-13|            2382836|\n",
            "|2024-01-14|            2171699|\n",
            "|2024-01-15|            2527927|\n",
            "+----------+-------------------+\n",
            "\n"
          ]
        }
      ]
    }
  ]
}